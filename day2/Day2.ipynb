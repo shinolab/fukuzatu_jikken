{
 "cells": [
  {
   "cell_type": "code",
   "execution_count": null,
   "metadata": {},
   "outputs": [],
   "source": [
    "import librosa\n",
    "import numpy as np\n",
    "import scipy.stats as stats\n",
    "import IPython.display\n",
    "%matplotlib inline\n",
    "import matplotlib.pyplot as plt"
   ]
  },
  {
   "cell_type": "code",
   "execution_count": null,
   "metadata": {},
   "outputs": [],
   "source": [
    "# オリジナル音源データの読み込み/Load original sound data\n",
    "\n",
    "!git clone https://github.com/shinolab/fukuzatu_jikken.git -b data\n",
    "\n",
    "fs = 44100\n",
    "orig_wav_1, _ = librosa.load('./fukuzatu_jikken/common_voice_ja_39589161.mp3', sr=fs, offset=1.0, duration=3.0)\n",
    "orig_wav_2, _ = librosa.load('./fukuzatu_jikken/common_voice_ja_39589175.mp3', sr=fs, offset=1.0, duration=3.0)"
   ]
  },
  {
   "cell_type": "code",
   "execution_count": null,
   "metadata": {},
   "outputs": [],
   "source": [
    "IPython.display.Audio(data=orig_wav_1, rate=fs)"
   ]
  },
  {
   "cell_type": "code",
   "execution_count": null,
   "metadata": {},
   "outputs": [],
   "source": [
    "IPython.display.Audio(data=orig_wav_2, rate=fs)"
   ]
  },
  {
   "cell_type": "markdown",
   "metadata": {},
   "source": [
    "# 演習1: 音声データを可視化してみよう\n",
    "# Excersise 1: Let's visualize the audio data"
   ]
  },
  {
   "cell_type": "code",
   "execution_count": null,
   "metadata": {},
   "outputs": [],
   "source": [
    "# hitn: https://matplotlib.org/stable/api/_as_gen/matplotlib.pyplot.plot.html\n",
    "\n",
    "# ここにプロットするコードを書いてください/Write code to plot here"
   ]
  },
  {
   "cell_type": "markdown",
   "metadata": {},
   "source": [
    "# 演習2: 音声データの強度分布を見てみよう\n",
    "# Excersise 2: Let's see the intensity distribution of the audio data"
   ]
  },
  {
   "cell_type": "code",
   "execution_count": null,
   "metadata": {},
   "outputs": [],
   "source": [
    "# hitn: https://matplotlib.org/stable/api/_as_gen/matplotlib.pyplot.hist.html\n",
    "\n",
    "# ここにヒストグラムをプロットするコードを書いてください/Write code to plot a histogram here\n",
    "bins = 100\n",
    "\n",
    "# 以下はガウス分布をプロットするコードです/The following code plots a Gaussian distribution\n",
    "mean = np.mean(orig_wav_1)\n",
    "std = np.std(orig_wav_1)\n",
    "gaussian = stats.norm.pdf(np.linspace(-1, 1, 100), mean, std)\n",
    "plt.plot(np.linspace(-1, 1, 100), gaussian);"
   ]
  },
  {
   "cell_type": "markdown",
   "metadata": {},
   "source": [
    "# 演習3: 混合前/混合後の信号の散布図を見てみよう\n",
    "# Excersise 3: Let's see the scatter plot of the signals before and after mixing"
   ]
  },
  {
   "cell_type": "code",
   "execution_count": null,
   "metadata": {},
   "outputs": [],
   "source": [
    "# 音源データのミキシング/Mixing sound data\n",
    "orig_wav = np.stack([orig_wav_1, orig_wav_2], axis = 1).T\n",
    "A = np.array([[0.92, 0.31], [0.41, 0.73]])\n",
    "\n",
    "mix_wav = np.dot(A, orig_wav)\n",
    "mix_wav_1, mix_wav_2 = mix_wav[0], mix_wav[1]"
   ]
  },
  {
   "cell_type": "code",
   "execution_count": null,
   "metadata": {},
   "outputs": [],
   "source": [
    "IPython.display.Audio(data=mix_wav_1, rate=fs)"
   ]
  },
  {
   "cell_type": "code",
   "execution_count": null,
   "metadata": {},
   "outputs": [],
   "source": [
    "IPython.display.Audio(data=mix_wav_2, rate=fs)"
   ]
  },
  {
   "cell_type": "code",
   "execution_count": null,
   "metadata": {},
   "outputs": [],
   "source": [
    "# hint: https://matplotlib.org/stable/api/_as_gen/matplotlib.pyplot.scatter.html\n",
    "\n",
    "# ここに散布図をプロットするコードを書いてください/Write code to plot a scatter plot here\n",
    "\n",
    "plt.xlim(-1, 1)\n",
    "plt.ylim(-1, 1);"
   ]
  },
  {
   "cell_type": "markdown",
   "metadata": {},
   "source": [
    "# 演習4: 白色化してみよう\n",
    "# Excersise 4: Let's whiten the signals"
   ]
  },
  {
   "cell_type": "code",
   "execution_count": null,
   "metadata": {},
   "outputs": [],
   "source": [
    "# 共分散行列の計算/Calculation of covariance matrix\n",
    "def covariace_matrix(X):\n",
    "    X_mu = np.mean(X, axis=1).reshape(2, 1)\n",
    "    X_cov = np.dot((X - X_mu), (X - X_mu).T) / X.shape[1]\n",
    "    return X_cov\n",
    "\n",
    "# 白色化/whitening\n",
    "# 現在は、白色化の関数が未実装です。以下の関数を完成させてください。\n",
    "# Currently, the whitening function is not implemented. Please complete the following function.\n",
    "def whitening(X):\n",
    "    return X\n",
    "\n",
    "X_dash = whitening(mix_wav)\n",
    "print(\"Mixed:\", covariace_matrix(mix_wav))\n",
    "print(\"Whitened:\", covariace_matrix(X_dash))\n",
    "\n",
    "plt.scatter(X_dash[0] / np.amax(X_dash[0]), X_dash[1] / np.amax(X_dash[1]))\n",
    "\n",
    "plt.xlim(-1, 1)\n",
    "plt.ylim(-1, 1);"
   ]
  },
  {
   "cell_type": "markdown",
   "metadata": {},
   "source": [
    "# 演習5: 尖度を計算してみよう\n",
    "# Excersise 5: Let's calculate the kurtosis"
   ]
  },
  {
   "cell_type": "code",
   "execution_count": null,
   "metadata": {},
   "outputs": [],
   "source": [
    "# 尖度の計算/Calculate kurtosis\n",
    "# 現在は、尖度の計算の関数が未実装です。以下の関数を完成させてください。\n",
    "# Currently, the function for calculating kurtosis is not implemented. Please complete the following function.\n",
    "def kurtosis(x):\n",
    "    return 0\n",
    "\n",
    "# 各角度に対して尖度を計算/Calculate kurtosis for each angle\n",
    "# ナイーブに全探索していますが, 解析解もあります, 興味があれば考えてみてください\n",
    "# We are naively searching for all angles, but there is an analytical solution. If you are interested, please think about it.\n",
    "step = 1\n",
    "degrees = np.arange(0, 89, step)\n",
    "kurtoses = np.zeros(len(degrees))\n",
    "for i, deg in enumerate(degrees):\n",
    "    theta = deg / 180 * np.pi\n",
    "    R = np.array([[np.cos(theta), -np.sin(theta)], [np.sin(theta),  np.cos(theta)]])\n",
    "    x = np.dot(R, X_dash)\n",
    "    kurtoses[i] = kurtosis(x[0]) + kurtosis(x[1])\n",
    "\n",
    "plt.plot(degrees, kurtoses)\n",
    "\n",
    "# 最大尖度を持つ角度/The angle with the maximum kurtosis\n",
    "deg = np.argmax(kurtoses) * step"
   ]
  },
  {
   "cell_type": "code",
   "execution_count": null,
   "metadata": {},
   "outputs": [],
   "source": [
    "# 推定した回転角で分離/Separate signals from the estimated rotation angle \n",
    "theta = deg / 180 * np.pi\n",
    "R = np.array([[np.cos(theta), -np.sin(theta)], [np.sin(theta),  np.cos(theta)]])\n",
    "estimated = np.dot(R, X_dash)\n",
    "\n",
    "plt.scatter(estimated[0], estimated[1])"
   ]
  },
  {
   "cell_type": "code",
   "execution_count": null,
   "metadata": {},
   "outputs": [],
   "source": [
    "IPython.display.Audio(data=estimated[0], rate=fs)"
   ]
  },
  {
   "cell_type": "code",
   "execution_count": null,
   "metadata": {},
   "outputs": [],
   "source": [
    "IPython.display.Audio(data=estimated[1], rate=fs)"
   ]
  }
 ],
 "metadata": {
  "colab": {
   "authorship_tag": "ABX9TyMQYvd8F6O58V5bhs+iqaeE",
   "provenance": [],
   "toc_visible": true
  },
  "kernelspec": {
   "display_name": "base",
   "language": "python",
   "name": "python3"
  },
  "language_info": {
   "codemirror_mode": {
    "name": "ipython",
    "version": 3
   },
   "file_extension": ".py",
   "mimetype": "text/x-python",
   "name": "python",
   "nbconvert_exporter": "python",
   "pygments_lexer": "ipython3",
   "version": "3.12.4"
  }
 },
 "nbformat": 4,
 "nbformat_minor": 0
}
