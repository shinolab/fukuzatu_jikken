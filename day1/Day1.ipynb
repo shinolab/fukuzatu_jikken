{
 "cells": [
  {
   "cell_type": "code",
   "execution_count": null,
   "metadata": {},
   "outputs": [],
   "source": [
    "import librosa\n",
    "import numpy as np\n",
    "import IPython.display\n",
    "%matplotlib inline\n",
    "import matplotlib.pyplot as plt\n",
    "import os"
   ]
  },
  {
   "cell_type": "code",
   "execution_count": null,
   "metadata": {},
   "outputs": [],
   "source": [
    "# オリジナル音源データの読み込み/Load original sound data\n",
    "\n",
    "if not os.path.isdir('fukuzatu_jikken'):\n",
    "  !git clone https://github.com/shinolab/fukuzatu_jikken.git -b data\n",
    "\n",
    "fs = 44100\n",
    "orig_wav, _ = librosa.load('./fukuzatu_jikken/Hallelujah.mp3', sr=fs, offset = 7.0, duration=5.0)\n",
    "IPython.display.Audio(data=orig_wav, rate=fs)"
   ]
  },
  {
   "cell_type": "markdown",
   "metadata": {},
   "source": [
    "# 演習1: ローパスフィルタを作ってみよう\n",
    "# Excersise 1: Let's make a low-pass filter"
   ]
  },
  {
   "cell_type": "code",
   "execution_count": null,
   "metadata": {},
   "outputs": [],
   "source": [
    "# 高周波ノイズのロード/Load high frequency noise \n",
    "\n",
    "high_noise, _ = librosa.load('./fukuzatu_jikken/high_noise.wav', sr=fs)\n",
    "IPython.display.Audio(data=high_noise, rate=fs)"
   ]
  },
  {
   "cell_type": "code",
   "execution_count": null,
   "metadata": {},
   "outputs": [],
   "source": [
    "# 高周波ノイズをオリジナル音源に重畳/Overlap high frequency noise on original sound source\n",
    "\n",
    "mix_wave = orig_wav + 0.3 * high_noise\n",
    "IPython.display.Audio(data=mix_wave, rate=fs)"
   ]
  },
  {
   "cell_type": "code",
   "execution_count": null,
   "metadata": {},
   "outputs": [],
   "source": [
    "# ノイズのスペクトルの確認/Check the spectrum of noise\n",
    "\n",
    "N = len(mix_wave)\n",
    "dt = 1/fs\n",
    "freq = np.fft.fftfreq(N, dt)[:N//2]\n",
    "plt.plot(freq, 2.0 / N * np.abs(np.fft.fft(mix_wave)[:N//2]))\n",
    "plt.xscale('log')"
   ]
  },
  {
   "cell_type": "code",
   "execution_count": null,
   "metadata": {},
   "outputs": [],
   "source": [
    "# 以下の関数を埋めてみよう. 現在は, なにもしないフィルタが書かれています.\n",
    "# Try to fill in the following function. Currently, this filter does nothing.\n",
    "# Note: np.sinc(x) = sin(pi * x) / (pi * x)\n",
    "def lpf(L, fc, fs):\n",
    "    fir = np.zeros(L, dtype=float)\n",
    "    T = 1/fs\n",
    "    Omega_c = T * 2 * np.pi * fc\n",
    "    for n in range(-(L-1)//2, (L-1)//2 + 1):\n",
    "        fir[n + (L-1)//2] = Omega_c / np.pi * np.sinc(Omega_c / np.pi * n)\n",
    "    return fir\n",
    "\n",
    "high_noise_f = 8000.0\n",
    "fir_low_pass = lpf(1999, high_noise_f, fs)\n",
    "filtered_wave = np.convolve(mix_wave, fir_low_pass)\n",
    "IPython.display.Audio(data=filtered_wave, rate=fs)"
   ]
  },
  {
   "cell_type": "code",
   "execution_count": null,
   "metadata": {},
   "outputs": [],
   "source": [
    "N = len(filtered_wave)\n",
    "dt = 1/fs\n",
    "freq = np.fft.fftfreq(N, dt)[:N//2]\n",
    "plt.plot(freq, 2.0 / N * np.abs(np.fft.fft(filtered_wave)[:N//2]))\n",
    "plt.xscale('log')"
   ]
  },
  {
   "cell_type": "code",
   "execution_count": null,
   "metadata": {},
   "outputs": [],
   "source": [
    "# フィルタの特性を確認/Check the characteristics of the filter\n",
    "\n",
    "N = len(fir_low_pass)\n",
    "dt = 1/fs\n",
    "freq = np.fft.fftfreq(N, dt)[:N//2]\n",
    "plt.plot(freq, 2.0 / N * np.abs(np.fft.fft(fir_low_pass)[:N//2]))\n",
    "plt.xscale('log')"
   ]
  },
  {
   "cell_type": "markdown",
   "metadata": {},
   "source": [
    "# 演習2: ハイパスフィルタを作ってみよう\n",
    "# Exercise 2: Let's make a high pass filter"
   ]
  },
  {
   "cell_type": "code",
   "execution_count": null,
   "metadata": {},
   "outputs": [],
   "source": [
    "# 低周波ノイズのロード/Load low frequency noise \n",
    "\n",
    "low_noise, _ = librosa.load('./fukuzatu_jikken/low_noise.wav', sr=fs)\n",
    "IPython.display.Audio(data=low_noise, rate=fs)"
   ]
  },
  {
   "cell_type": "code",
   "execution_count": null,
   "metadata": {},
   "outputs": [],
   "source": [
    "# 低周波ノイズをオリジナル音源に重畳/Overlap low frequency noise on original sound source\n",
    "\n",
    "mix_wave = orig_wav + 0.6 * low_noise\n",
    "IPython.display.Audio(data=mix_wave, rate=fs)"
   ]
  },
  {
   "cell_type": "code",
   "execution_count": null,
   "metadata": {},
   "outputs": [],
   "source": [
    "# ノイズのスペクトルの確認/Check the spectrum of noise\n",
    "\n",
    "N = len(mix_wave)\n",
    "dt = 1/fs\n",
    "freq = np.fft.fftfreq(N, dt)[:N//2]\n",
    "plt.plot(freq, 2.0 / N * np.abs(np.fft.fft(mix_wave)[:N//2]))\n",
    "plt.xscale('log')"
   ]
  },
  {
   "cell_type": "code",
   "execution_count": null,
   "metadata": {},
   "outputs": [],
   "source": [
    "def hpf(L, fc, fs):\n",
    "    fir = np.zeros(L, dtype=float)\n",
    "    fir[0] = 1\n",
    "    return fir\n",
    "\n",
    "low_noise_f = 400.0\n",
    "fir_high_pass = hpf(1999, low_noise_f, fs)\n",
    "filtered_wave = np.convolve(mix_wave, fir_high_pass)\n",
    "IPython.display.Audio(data=filtered_wave, rate=fs)"
   ]
  },
  {
   "cell_type": "code",
   "execution_count": null,
   "metadata": {},
   "outputs": [],
   "source": [
    "N = len(filtered_wave)\n",
    "dt = 1/fs\n",
    "freq = np.fft.fftfreq(N, dt)[:N//2]\n",
    "plt.plot(freq, 2.0 / N * np.abs(np.fft.fft(filtered_wave)[:N//2]))\n",
    "plt.xscale('log')"
   ]
  },
  {
   "cell_type": "code",
   "execution_count": null,
   "metadata": {},
   "outputs": [],
   "source": [
    "# フィルタの特性を確認/Check the characteristics of the filter\n",
    "\n",
    "N = len(fir_high_pass)\n",
    "dt = 1/fs\n",
    "freq = np.fft.fftfreq(N, dt)[:N//2]\n",
    "plt.plot(freq, 2.0 / N * np.abs(np.fft.fft(fir_high_pass)[:N//2]))\n",
    "plt.xscale('log')"
   ]
  },
  {
   "cell_type": "markdown",
   "metadata": {},
   "source": [
    "# Appendix: scipyのsignalモジュールとの比較"
   ]
  },
  {
   "cell_type": "code",
   "execution_count": null,
   "metadata": {},
   "outputs": [],
   "source": [
    "from scipy import signal"
   ]
  },
  {
   "cell_type": "code",
   "execution_count": null,
   "metadata": {},
   "outputs": [],
   "source": [
    "fir_low_pass_signal = signal.firwin(1999, high_noise_f, fs = fs, window = \"boxcar\", pass_zero = \"lowpass\")\n",
    "plt.plot(fir_low_pass)\n",
    "plt.plot(fir_low_pass_signal)"
   ]
  },
  {
   "cell_type": "code",
   "execution_count": null,
   "metadata": {},
   "outputs": [],
   "source": [
    "N = len(fir_high_pass)\n",
    "dt = 1/fs\n",
    "freq = np.fft.fftfreq(N, dt)[:N//2]\n",
    "plt.plot(freq, 2.0 / N * np.abs(np.fft.fft(fir_low_pass)[:N//2]))\n",
    "plt.plot(freq, 2.0 / N * np.abs(np.fft.fft(fir_low_pass_signal)[:N//2]))\n",
    "plt.xscale('log')"
   ]
  },
  {
   "cell_type": "code",
   "execution_count": null,
   "metadata": {},
   "outputs": [],
   "source": []
  },
  {
   "cell_type": "code",
   "execution_count": null,
   "metadata": {},
   "outputs": [],
   "source": []
  }
 ],
 "metadata": {
  "colab": {
   "authorship_tag": "ABX9TyMQYvd8F6O58V5bhs+iqaeE",
   "provenance": [],
   "toc_visible": true
  },
  "kernelspec": {
   "display_name": "Python 3",
   "language": "python",
   "name": "python3"
  },
  "language_info": {
   "codemirror_mode": {
    "name": "ipython",
    "version": 3
   },
   "file_extension": ".py",
   "mimetype": "text/x-python",
   "name": "python",
   "nbconvert_exporter": "python",
   "pygments_lexer": "ipython3",
   "version": "3.13.3"
  },
  "vscode": {
   "interpreter": {
    "hash": "d9e09212cb01fa0fb406aca49aa145a0ed28daa1c2e15d963d54046a55853549"
   }
  }
 },
 "nbformat": 4,
 "nbformat_minor": 0
}
